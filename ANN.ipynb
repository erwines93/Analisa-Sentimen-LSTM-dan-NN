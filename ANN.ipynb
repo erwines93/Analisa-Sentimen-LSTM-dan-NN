{
 "cells": [
  {
   "cell_type": "code",
   "execution_count": 20,
   "metadata": {},
   "outputs": [
    {
     "name": "stderr",
     "output_type": "stream",
     "text": [
      "[nltk_data] Downloading package punkt to\n",
      "[nltk_data]     C:\\Users\\asus\\AppData\\Roaming\\nltk_data...\n",
      "[nltk_data]   Package punkt is already up-to-date!\n",
      "[nltk_data] Downloading package stopwords to\n",
      "[nltk_data]     C:\\Users\\asus\\AppData\\Roaming\\nltk_data...\n",
      "[nltk_data]   Package stopwords is already up-to-date!\n"
     ]
    }
   ],
   "source": [
    "import pandas as pd\n",
    "import re\n",
    "import matplotlib.pyplot as plt\n",
    "from nltk import word_tokenize\n",
    "import nltk\n",
    "nltk.download('punkt')\n",
    "from Sastrawi.Stemmer.StemmerFactory import StemmerFactory\n",
    "nltk.download('stopwords')\n",
    "from nltk.corpus import stopwords as stopwords_scratch\n",
    "import seaborn as sns\n",
    "from sklearn.feature_extraction.text import CountVectorizer, TfidfVectorizer\n",
    "from sklearn.naive_bayes import MultinomialNB\n",
    "from sklearn.linear_model import LogisticRegression\n",
    "from sklearn.svm import SVC\n",
    "from sklearn.neural_network import MLPClassifier\n",
    "from sklearn.metrics import f1_score, accuracy_score, classification_report,confusion_matrix\n",
    "from sklearn.model_selection import GridSearchCV\n",
    "from sklearn.model_selection import PredefinedSplit\n",
    "from sklearn.model_selection import train_test_split\n",
    "import numpy as np\n",
    "import seaborn as sns\n",
    "import matplotlib.pyplot as plt\n",
    "from sklearn.metrics import roc_auc_score  \n",
    "from sklearn.metrics import roc_curve,auc  \n",
    "from sklearn.model_selection import KFold"
   ]
  },
  {
   "cell_type": "code",
   "execution_count": 21,
   "metadata": {},
   "outputs": [],
   "source": [
    "# Dataset\n",
    "# read csv data\n",
    "df= pd.read_csv(r'P:\\challange platinum\\dataset_platinum\\train_preprocess.tsv.txt', sep='\\t',names=['data','label'],encoding='latin-1')\n",
    "df = df.drop_duplicates()\n",
    "df_alay = pd.read_csv(r'P:\\challange platinum\\dataset_platinum\\new_kamusalay.csv', names=['alay','cleaned'],encoding='latin-1')"
   ]
  },
  {
   "cell_type": "code",
   "execution_count": 22,
   "metadata": {},
   "outputs": [
    {
     "data": {
      "text/html": [
       "<div>\n",
       "<style scoped>\n",
       "    .dataframe tbody tr th:only-of-type {\n",
       "        vertical-align: middle;\n",
       "    }\n",
       "\n",
       "    .dataframe tbody tr th {\n",
       "        vertical-align: top;\n",
       "    }\n",
       "\n",
       "    .dataframe thead th {\n",
       "        text-align: right;\n",
       "    }\n",
       "</style>\n",
       "<table border=\"1\" class=\"dataframe\">\n",
       "  <thead>\n",
       "    <tr style=\"text-align: right;\">\n",
       "      <th></th>\n",
       "      <th>data</th>\n",
       "      <th>label</th>\n",
       "    </tr>\n",
       "  </thead>\n",
       "  <tbody>\n",
       "    <tr>\n",
       "      <th>0</th>\n",
       "      <td>False</td>\n",
       "      <td>False</td>\n",
       "    </tr>\n",
       "    <tr>\n",
       "      <th>1</th>\n",
       "      <td>False</td>\n",
       "      <td>False</td>\n",
       "    </tr>\n",
       "    <tr>\n",
       "      <th>2</th>\n",
       "      <td>False</td>\n",
       "      <td>False</td>\n",
       "    </tr>\n",
       "    <tr>\n",
       "      <th>3</th>\n",
       "      <td>False</td>\n",
       "      <td>False</td>\n",
       "    </tr>\n",
       "    <tr>\n",
       "      <th>4</th>\n",
       "      <td>False</td>\n",
       "      <td>False</td>\n",
       "    </tr>\n",
       "    <tr>\n",
       "      <th>...</th>\n",
       "      <td>...</td>\n",
       "      <td>...</td>\n",
       "    </tr>\n",
       "    <tr>\n",
       "      <th>10993</th>\n",
       "      <td>False</td>\n",
       "      <td>False</td>\n",
       "    </tr>\n",
       "    <tr>\n",
       "      <th>10994</th>\n",
       "      <td>False</td>\n",
       "      <td>False</td>\n",
       "    </tr>\n",
       "    <tr>\n",
       "      <th>10996</th>\n",
       "      <td>False</td>\n",
       "      <td>False</td>\n",
       "    </tr>\n",
       "    <tr>\n",
       "      <th>10998</th>\n",
       "      <td>False</td>\n",
       "      <td>False</td>\n",
       "    </tr>\n",
       "    <tr>\n",
       "      <th>10999</th>\n",
       "      <td>False</td>\n",
       "      <td>False</td>\n",
       "    </tr>\n",
       "  </tbody>\n",
       "</table>\n",
       "<p>10933 rows × 2 columns</p>\n",
       "</div>"
      ],
      "text/plain": [
       "        data  label\n",
       "0      False  False\n",
       "1      False  False\n",
       "2      False  False\n",
       "3      False  False\n",
       "4      False  False\n",
       "...      ...    ...\n",
       "10993  False  False\n",
       "10994  False  False\n",
       "10996  False  False\n",
       "10998  False  False\n",
       "10999  False  False\n",
       "\n",
       "[10933 rows x 2 columns]"
      ]
     },
     "execution_count": 22,
     "metadata": {},
     "output_type": "execute_result"
    }
   ],
   "source": [
    "df.isna()\n"
   ]
  },
  {
   "cell_type": "code",
   "execution_count": 23,
   "metadata": {},
   "outputs": [
    {
     "data": {
      "image/png": "[encoded data removed]",
      "text/plain": [
       "<Figure size 700x400 with 1 Axes>"
      ]
     },
     "metadata": {},
     "output_type": "display_data"
    }
   ],
   "source": [
    "# Chart Klasifikasi Sentimen\n",
    "df[\"label\"].value_counts().plot.bar(figsize = (7, 4))\n",
    "plt.title('Grafik Klasifikasi Sentimen')\n",
    "plt.xlabel('Label')\n",
    "plt.ylabel('Jumlah Kata')\n",
    "plt.legend()\n",
    "plt.show()"
   ]
  },
  {
   "cell_type": "code",
   "execution_count": 24,
   "metadata": {},
   "outputs": [
    {
     "data": {
      "text/html": [
       "<div>\n",
       "<style scoped>\n",
       "    .dataframe tbody tr th:only-of-type {\n",
       "        vertical-align: middle;\n",
       "    }\n",
       "\n",
       "    .dataframe tbody tr th {\n",
       "        vertical-align: top;\n",
       "    }\n",
       "\n",
       "    .dataframe thead th {\n",
       "        text-align: right;\n",
       "    }\n",
       "</style>\n",
       "<table border=\"1\" class=\"dataframe\">\n",
       "  <thead>\n",
       "    <tr style=\"text-align: right;\">\n",
       "      <th></th>\n",
       "      <th>data</th>\n",
       "      <th>label</th>\n",
       "      <th>kategori_label</th>\n",
       "      <th>ln_text</th>\n",
       "    </tr>\n",
       "  </thead>\n",
       "  <tbody>\n",
       "    <tr>\n",
       "      <th>0</th>\n",
       "      <td>warung ini dimiliki oleh pengusaha pabrik tahu...</td>\n",
       "      <td>positive</td>\n",
       "      <td>2</td>\n",
       "      <td>404</td>\n",
       "    </tr>\n",
       "    <tr>\n",
       "      <th>1</th>\n",
       "      <td>mohon ulama lurus dan k212 mmbri hujjah partai...</td>\n",
       "      <td>neutral</td>\n",
       "      <td>1</td>\n",
       "      <td>102</td>\n",
       "    </tr>\n",
       "    <tr>\n",
       "      <th>2</th>\n",
       "      <td>lokasi strategis di jalan sumatera bandung . t...</td>\n",
       "      <td>positive</td>\n",
       "      <td>2</td>\n",
       "      <td>184</td>\n",
       "    </tr>\n",
       "    <tr>\n",
       "      <th>3</th>\n",
       "      <td>betapa bahagia nya diri ini saat unboxing pake...</td>\n",
       "      <td>positive</td>\n",
       "      <td>2</td>\n",
       "      <td>93</td>\n",
       "    </tr>\n",
       "    <tr>\n",
       "      <th>4</th>\n",
       "      <td>duh . jadi mahasiswa jangan sombong dong . kas...</td>\n",
       "      <td>negative</td>\n",
       "      <td>0</td>\n",
       "      <td>214</td>\n",
       "    </tr>\n",
       "  </tbody>\n",
       "</table>\n",
       "</div>"
      ],
      "text/plain": [
       "                                                data     label  \\\n",
       "0  warung ini dimiliki oleh pengusaha pabrik tahu...  positive   \n",
       "1  mohon ulama lurus dan k212 mmbri hujjah partai...   neutral   \n",
       "2  lokasi strategis di jalan sumatera bandung . t...  positive   \n",
       "3  betapa bahagia nya diri ini saat unboxing pake...  positive   \n",
       "4  duh . jadi mahasiswa jangan sombong dong . kas...  negative   \n",
       "\n",
       "   kategori_label  ln_text  \n",
       "0               2      404  \n",
       "1               1      102  \n",
       "2               2      184  \n",
       "3               2       93  \n",
       "4               0      214  "
      ]
     },
     "execution_count": 24,
     "metadata": {},
     "output_type": "execute_result"
    }
   ],
   "source": [
    "# Data Mapping\n",
    "mapping = {\n",
    "    'positive': 2,\n",
    "    'negative': 0,\n",
    "    'neutral': 1\n",
    "}\n",
    "\n",
    "df['kategori_label'] = df['label'].replace(mapping)\n",
    "df['ln_text'] = df['data'].str.len()\n",
    "df.head()"
   ]
  },
  {
   "cell_type": "code",
   "execution_count": 25,
   "metadata": {},
   "outputs": [
    {
     "data": {
      "image/png": "[encoded data removed]",
      "text/plain": [
       "<Figure size 640x480 with 1 Axes>"
      ]
     },
     "metadata": {},
     "output_type": "display_data"
    }
   ],
   "source": [
    "# Box plot\n",
    "sns.set_style('whitegrid')\n",
    "sns.boxplot(y = df['ln_text'] , x = df['label']);\n",
    "plt.ylabel('Panjang Kata')\n",
    "plt.title('Persebaran Data Sentiment')\n",
    "plt.show()"
   ]
  },
  {
   "cell_type": "code",
   "execution_count": 26,
   "metadata": {},
   "outputs": [
    {
     "name": "stdout",
     "output_type": "stream",
     "text": [
      "count    10933.000000\n",
      "mean         1.271746\n",
      "std          0.906720\n",
      "min          0.000000\n",
      "25%          0.000000\n",
      "50%          2.000000\n",
      "75%          2.000000\n",
      "max          2.000000\n",
      "Name: kategori_label, dtype: float64\n"
     ]
    }
   ],
   "source": [
    "# Data Information\n",
    "print(df['kategori_label'].describe(include=[\"all\"]))"
   ]
  },
  {
   "cell_type": "code",
   "execution_count": 27,
   "metadata": {},
   "outputs": [
    {
     "data": {
      "text/plain": [
       "positive    6383\n",
       "negative    3412\n",
       "neutral     1138\n",
       "Name: label, dtype: int64"
      ]
     },
     "execution_count": 27,
     "metadata": {},
     "output_type": "execute_result"
    }
   ],
   "source": [
    "# Count Label\n",
    "jumlah_data_per_label = df['label'].value_counts()\n",
    "jumlah_data_per_label"
   ]
  },
  {
   "cell_type": "code",
   "execution_count": 28,
   "metadata": {},
   "outputs": [
    {
     "data": {
      "text/plain": [
       "1002"
      ]
     },
     "execution_count": 28,
     "metadata": {},
     "output_type": "execute_result"
    }
   ],
   "source": [
    "# Stopwords\n",
    "list_stopwords = stopwords_scratch.words('indonesian')\n",
    "list_stopwords_en = stopwords_scratch.words('english')\n",
    "list_stopwords.extend(list_stopwords_en)\n",
    "list_stopwords.extend(['ya','yg','ga','yuk','dah','baiknya', 'berkali', 'kali', 'kurangnya', 'mata', 'olah', 'sekurang', 'setidak', 'tama', 'tidaknya'])\n",
    "\n",
    "# External Stopwords\n",
    "f = open(\"P:\\challange platinum\\dataset_platinum\\stopwords.txt\", \"r\")\n",
    "stopword_external = []\n",
    "for line in f:\n",
    "    stripped_line = line.strip()\n",
    "    line_list = stripped_line.split()\n",
    "    stopword_external.append(line_list[0])\n",
    "f.close()\n",
    "list_stopwords.extend(stopword_external)\n",
    "\n",
    "stopwords = list_stopwords\n",
    "\n",
    "len(stopwords)"
   ]
  },
  {
   "cell_type": "code",
   "execution_count": 30,
   "metadata": {},
   "outputs": [],
   "source": [
    "# Cleansing Data\n",
    "def lowercase(text): # Change uppercase characters to lowercase\n",
    "    return text.lower()\n",
    "\n",
    "def special(text): # Remove all the special characters\n",
    "    text = re.sub(r'\\W', ' ',str(text), flags=re.MULTILINE)\n",
    "    return text\n",
    "\n",
    "def single(text): # remove all single characters\n",
    "    text = re.sub(r'\\s+[a-zA-Z]\\s+', ' ', text, flags=re.MULTILINE)\n",
    "    return text\n",
    "\n",
    "def singlestart(text): # Remove single characters from the start\n",
    "    text = re.sub(r'\\^[a-zA-Z]\\s+', ' ', text, flags=re.MULTILINE)\n",
    "    return text\n",
    "\n",
    "def mulspace(text): # Substituting multiple spaces with single space\n",
    "    text = re.sub(r'\\s+', ' ', text, flags=re.MULTILINE)\n",
    "    return text\n",
    "\n",
    "def rt(text): # Remove RT\n",
    "    text = re.sub(r'rt @\\w+: ', ' ', text, flags=re.MULTILINE)\n",
    "    return text\n",
    "\n",
    "def prefixedb(text): # Removing prefixed 'b'\n",
    "    text = re.sub(r'^b\\s+', '', text, flags=re.MULTILINE)\n",
    "    return text\n",
    "\n",
    "def misc(text): # Remove URL, Mention, Hashtag, user, Line, and Tab\n",
    "    text = re.sub(r'((www\\.[^\\s]+)|(https?://[^\\s]+)|(http?://[^\\s]+))|([#@]\\S+)|user|\\n|\\t', ' ', text, flags=re.MULTILINE)\n",
    "    return text\n",
    "\n",
    "alay_mapping = dict(zip(df_alay['alay'], df_alay['cleaned'])) # Mapping for kamusalay\n",
    "def alay(text): # Remove by replacing 'alay' words\n",
    "    wordlist = text.split()\n",
    "    text_alay = [alay_mapping.get(x,x) for x in wordlist]\n",
    "    clean_alay = ' '.join(text_alay)\n",
    "    return clean_alay\n",
    "\n",
    "def stopwrds(text): # Stopwords fuction\n",
    "    text_tokens = word_tokenize(text)\n",
    "    tokens_without_sw = [word for word in text_tokens if not word in stopwords]\n",
    "    output_sw = ' '.join(tokens_without_sw)\n",
    "    return output_sw\n",
    "\n",
    "#Function for text cleansing\n",
    "def cleaning(text):\n",
    "    text = lowercase(text)\n",
    "    text = special(text)\n",
    "    text = single(text)\n",
    "    text = singlestart(text)\n",
    "    text = mulspace(text)\n",
    "    text = rt(text)\n",
    "    text = prefixedb(text)\n",
    "    text = misc(text)\n",
    "    text = alay(text)\n",
    "    # text = stopwrds(text)\n",
    "    return text"
   ]
  },
  {
   "cell_type": "code",
   "execution_count": 31,
   "metadata": {},
   "outputs": [],
   "source": [
    "def stemming(text):\n",
    "    word_token = word_tokenize(text)\n",
    "    factory = StemmerFactory()\n",
    "    stemmer = factory.create_stemmer()\n",
    "    input_stemm = str(word_token)\n",
    "    output_stemm = stemmer.stem(input_stemm)\n",
    "    stemmed_text = ' '.join(output_stemm)\n",
    "    return stemmed_text"
   ]
  },
  {
   "cell_type": "code",
   "execution_count": 32,
   "metadata": {},
   "outputs": [
    {
     "data": {
      "text/plain": [
       "0        warung ini dimiliki oleh pengusaha pabrik tahu...\n",
       "1        mohon ulama lurus dan k212 mmbri hujjah partai...\n",
       "2        lokasi strategis di jalan sumatra bandung temp...\n",
       "3        betapa bahagia nya diri ini saat unboxing pake...\n",
       "4        aduh jadi mahasiswa jangan sombong dong kasih ...\n",
       "                               ...                        \n",
       "10993    f demokrat dorong upaya kemandirian energi nas...\n",
       "10994                                          tidak bosan\n",
       "10996    enak rasa masakan nya apalagi kepiting yang me...\n",
       "10998    pagi pagi di tol pasteur sudah macet parah bik...\n",
       "10999    meskipun sering belanja ke yogyakarta di riau ...\n",
       "Name: data, Length: 10933, dtype: object"
      ]
     },
     "execution_count": 32,
     "metadata": {},
     "output_type": "execute_result"
    }
   ],
   "source": [
    "clean_text = df['data'].apply(lambda x: cleaning(x))\n",
    "clean_text"
   ]
  },
  {
   "cell_type": "code",
   "execution_count": 56,
   "metadata": {},
   "outputs": [],
   "source": [
    "texts = df.iloc[:,0].values\n",
    "data = []\n",
    "for sentence in range(0, len(texts)):\n",
    "    texts_clean = cleaning(str(texts[sentence]))\n",
    "    #texts_stem = stemming(texts_clean)\n",
    "    data.append(texts_clean)\n",
    "\n",
    "df.text = data\n",
    "\n",
    "labels = df.iloc[:,1]\n",
    "\n",
    "df.to_csv(r\"P:\\challange platinum\\dataset_platinum\\train_preprocess.tsv.txt\")"
   ]
  },
  {
   "cell_type": "code",
   "execution_count": 57,
   "metadata": {},
   "outputs": [
    {
     "data": {
      "text/html": [
       "<div>\n",
       "<style scoped>\n",
       "    .dataframe tbody tr th:only-of-type {\n",
       "        vertical-align: middle;\n",
       "    }\n",
       "\n",
       "    .dataframe tbody tr th {\n",
       "        vertical-align: top;\n",
       "    }\n",
       "\n",
       "    .dataframe thead th {\n",
       "        text-align: right;\n",
       "    }\n",
       "</style>\n",
       "<table border=\"1\" class=\"dataframe\">\n",
       "  <thead>\n",
       "    <tr style=\"text-align: right;\">\n",
       "      <th></th>\n",
       "      <th>data</th>\n",
       "      <th>label</th>\n",
       "      <th>kategori_label</th>\n",
       "      <th>ln_text</th>\n",
       "    </tr>\n",
       "  </thead>\n",
       "  <tbody>\n",
       "    <tr>\n",
       "      <th>0</th>\n",
       "      <td>warung ini dimiliki oleh pengusaha pabrik tahu...</td>\n",
       "      <td>positive</td>\n",
       "      <td>2</td>\n",
       "      <td>404</td>\n",
       "    </tr>\n",
       "    <tr>\n",
       "      <th>1</th>\n",
       "      <td>mohon ulama lurus dan k212 mmbri hujjah partai...</td>\n",
       "      <td>neutral</td>\n",
       "      <td>1</td>\n",
       "      <td>102</td>\n",
       "    </tr>\n",
       "    <tr>\n",
       "      <th>2</th>\n",
       "      <td>lokasi strategis di jalan sumatera bandung . t...</td>\n",
       "      <td>positive</td>\n",
       "      <td>2</td>\n",
       "      <td>184</td>\n",
       "    </tr>\n",
       "    <tr>\n",
       "      <th>3</th>\n",
       "      <td>betapa bahagia nya diri ini saat unboxing pake...</td>\n",
       "      <td>positive</td>\n",
       "      <td>2</td>\n",
       "      <td>93</td>\n",
       "    </tr>\n",
       "    <tr>\n",
       "      <th>4</th>\n",
       "      <td>duh . jadi mahasiswa jangan sombong dong . kas...</td>\n",
       "      <td>negative</td>\n",
       "      <td>0</td>\n",
       "      <td>214</td>\n",
       "    </tr>\n",
       "  </tbody>\n",
       "</table>\n",
       "</div>"
      ],
      "text/plain": [
       "                                                data     label  \\\n",
       "0  warung ini dimiliki oleh pengusaha pabrik tahu...  positive   \n",
       "1  mohon ulama lurus dan k212 mmbri hujjah partai...   neutral   \n",
       "2  lokasi strategis di jalan sumatera bandung . t...  positive   \n",
       "3  betapa bahagia nya diri ini saat unboxing pake...  positive   \n",
       "4  duh . jadi mahasiswa jangan sombong dong . kas...  negative   \n",
       "\n",
       "   kategori_label  ln_text  \n",
       "0               2      404  \n",
       "1               1      102  \n",
       "2               2      184  \n",
       "3               2       93  \n",
       "4               0      214  "
      ]
     },
     "execution_count": 57,
     "metadata": {},
     "output_type": "execute_result"
    }
   ],
   "source": [
    "df.head()"
   ]
  },
  {
   "cell_type": "code",
   "execution_count": 58,
   "metadata": {},
   "outputs": [],
   "source": [
    "def hyperparam_tuning(xtrain, xtest, ytrain, ytest, classifier, param_grid):\n",
    "    # split ytrain to create cross validation\n",
    "    ytrain_split, ytest_split = train_test_split(ytrain, test_size=0.6, random_state=0)\n",
    "\n",
    "    # create predefined split\n",
    "    # -1 for all training and 0 for all test\n",
    "    ps = PredefinedSplit([-1] * ytrain_split.shape[0] + [0] * ytest_split.shape[0])\n",
    "    clf = GridSearchCV(classifier, param_grid, n_jobs=-1, cv=ps)\n",
    "    clf = clf.fit(xtrain,ytrain)\n",
    "    return clf\n",
    "\n",
    "def train_and_test(feature=\"bow\", classifier=\"nb\"):\n",
    "    xtrain, xtest, ytrain, ytest = train_test_split(data,labels,test_size=0.2, random_state=0)\n",
    "    # train feature on train data\n",
    "    if feature == \"bow\":\n",
    "        vectorizer = CountVectorizer()\n",
    "    elif feature == \"tfidf\":\n",
    "        vectorizer = TfidfVectorizer()\n",
    "    else:\n",
    "        raise Exception('Vectorizer unknown. Use \"BoW\" or \"tfidf\"')\n",
    "    vectorizer.fit(xtrain)\n",
    "\n",
    "    # transform\n",
    "    xtrain = vectorizer.transform(xtrain)\n",
    "    xtest = vectorizer.transform(xtest)\n",
    "    \n",
    "    # all classifiers\n",
    "    classifier_model = {\"nb\" : MultinomialNB(),\n",
    "                        \"svm\": SVC(),\n",
    "                        \"lr\" : LogisticRegression(max_iter=1000),\n",
    "                        \"mlp\": MLPClassifier() \n",
    "                       }\n",
    "    # all params for grid-search\n",
    "    param_grids = {\"nb\" : {\"alpha\": np.linspace(0.001,1,50)},\n",
    "                   \"svm\": {'C': [0.01, 0.1, 1, 10, 100], 'kernel': ['rbf', 'linear']},\n",
    "                   \"lr\" : {'C': np.linspace(0.001,10,100)},\n",
    "                   \"mlp\": {'activation': ['relu']}\n",
    "                  }\n",
    "    \n",
    "    # hyperparam_tuning used for model besides MLP, since MLP works better without hyperparamater\n",
    "    #clf = hyperparam_tuning(xtrain, xtest, ytrain, ytest, classifier=classifier_model[classifier], param_grid=param_grids[classifier])\n",
    "\n",
    "    model = MLPClassifier()\n",
    "    clf = model.fit(xtrain, ytrain)\n",
    "\n",
    "    pred = clf.predict(xtest.toarray())\n",
    "    f1 = f1_score(ytest,pred, average='micro')\n",
    "    \n",
    "    return f1, clf, vectorizer, pred, xtrain, xtest, ytrain, ytest"
   ]
  },
  {
   "cell_type": "code",
   "execution_count": 59,
   "metadata": {},
   "outputs": [
    {
     "name": "stdout",
     "output_type": "stream",
     "text": [
      "Training for sentiment analysis classifier\n",
      "Training done. F1 on test set is 0.850480109739369\n",
      "\n",
      "Sentiment on the input text is ['negative']\n"
     ]
    }
   ],
   "source": [
    "input_sentiment = \"bangsat\"\n",
    "\n",
    "print(f\"Training for sentiment analysis classifier\")\n",
    "f1, clf, vectorizer, pred, xtrain, xtest, ytrain, ytest = train_and_test(feature=\"tfidf\", classifier=\"mlp\")\n",
    "print(f\"Training done. F1 on test set is {f1}\")\n",
    "\n",
    "input_sentiment = \" \".join(word_tokenize(input_sentiment))\n",
    "sent = clf.predict(vectorizer.transform([input_sentiment]).toarray())\n",
    "print(f\"\\nSentiment on the input text is {sent}\")"
   ]
  },
  {
   "cell_type": "code",
   "execution_count": 60,
   "metadata": {},
   "outputs": [
    {
     "name": "stdout",
     "output_type": "stream",
     "text": [
      "              precision    recall  f1-score   support\n",
      "\n",
      "    negative       0.78      0.82      0.80       689\n",
      "     neutral       0.82      0.71      0.76       236\n",
      "    positive       0.89      0.90      0.89      1262\n",
      "\n",
      "    accuracy                           0.85      2187\n",
      "   macro avg       0.83      0.81      0.82      2187\n",
      "weighted avg       0.85      0.85      0.85      2187\n",
      "\n"
     ]
    }
   ],
   "source": [
    "print(classification_report(ytest,pred))"
   ]
  },
  {
   "cell_type": "code",
   "execution_count": 62,
   "metadata": {},
   "outputs": [
    {
     "data": {
      "text/plain": [
       "['vectorizer.pkl']"
      ]
     },
     "execution_count": 62,
     "metadata": {},
     "output_type": "execute_result"
    }
   ],
   "source": [
    "import joblib\n",
    "\n",
    "joblib.dump(f1,'score.pkl')\n",
    "joblib.dump(clf,'model.pkl')\n",
    "joblib.dump(vectorizer,'vectorizer.pkl')"
   ]
  },
  {
   "cell_type": "code",
   "execution_count": 63,
   "metadata": {},
   "outputs": [
    {
     "data": {
      "image/png": "[encoded data removed]",
      "text/plain": [
       "<Figure size 1000x700 with 2 Axes>"
      ]
     },
     "metadata": {},
     "output_type": "display_data"
    }
   ],
   "source": [
    "def plot_confusion_matrix(ytest, pred):  \n",
    "     conf_mat = pd.DataFrame(confusion_matrix(ytest, pred))  \n",
    "     fig = plt.figure(figsize=(10, 7))  \n",
    "     sns.heatmap(conf_mat, annot=True, annot_kws={\"size\": 16}, fmt=\"g\")  \n",
    "     plt.title(\"Confusion Matrix\")  \n",
    "     plt.xlabel(\"Predicted Label\")  \n",
    "     plt.ylabel(\"True Label\")  \n",
    "     plt.show()\n",
    "   \n",
    "plot_confusion_matrix(ytest,pred)"
   ]
  },
  {
   "cell_type": "code",
   "execution_count": 65,
   "metadata": {},
   "outputs": [
    {
     "name": "stdout",
     "output_type": "stream",
     "text": [
      "Training no:  1\n",
      "              precision    recall  f1-score   support\n",
      "\n",
      "    negative       0.81      0.79      0.80       690\n",
      "     neutral       0.80      0.75      0.78       220\n",
      "    positive       0.89      0.91      0.90      1277\n",
      "\n",
      "    accuracy                           0.86      2187\n",
      "   macro avg       0.83      0.82      0.83      2187\n",
      "weighted avg       0.86      0.86      0.86      2187\n",
      "\n",
      "=================================================================\n",
      "Training no:  2\n",
      "              precision    recall  f1-score   support\n",
      "\n",
      "    negative       0.79      0.79      0.79       667\n",
      "     neutral       0.81      0.70      0.75       219\n",
      "    positive       0.89      0.90      0.89      1301\n",
      "\n",
      "    accuracy                           0.85      2187\n",
      "   macro avg       0.83      0.80      0.81      2187\n",
      "weighted avg       0.85      0.85      0.85      2187\n",
      "\n",
      "=================================================================\n",
      "Training no:  3\n",
      "              precision    recall  f1-score   support\n",
      "\n",
      "    negative       0.80      0.78      0.79       695\n",
      "     neutral       0.81      0.75      0.78       213\n",
      "    positive       0.88      0.91      0.89      1279\n",
      "\n",
      "    accuracy                           0.85      2187\n",
      "   macro avg       0.83      0.81      0.82      2187\n",
      "weighted avg       0.85      0.85      0.85      2187\n",
      "\n",
      "=================================================================\n",
      "Training no:  4\n",
      "              precision    recall  f1-score   support\n",
      "\n",
      "    negative       0.77      0.80      0.79       705\n",
      "     neutral       0.84      0.74      0.79       234\n",
      "    positive       0.89      0.89      0.89      1247\n",
      "\n",
      "    accuracy                           0.84      2186\n",
      "   macro avg       0.83      0.81      0.82      2186\n",
      "weighted avg       0.84      0.84      0.84      2186\n",
      "\n",
      "=================================================================\n",
      "Training no:  5\n",
      "              precision    recall  f1-score   support\n",
      "\n",
      "    negative       0.76      0.75      0.76       655\n",
      "     neutral       0.74      0.67      0.70       252\n",
      "    positive       0.88      0.90      0.89      1279\n",
      "\n",
      "    accuracy                           0.83      2186\n",
      "   macro avg       0.79      0.77      0.78      2186\n",
      "weighted avg       0.83      0.83      0.83      2186\n",
      "\n",
      "=================================================================\n",
      "\n",
      "\n",
      "\n",
      "Average Accuracy:  0.8455117175390973\n"
     ]
    }
   ],
   "source": [
    "kf = KFold(n_splits=5, random_state=42, shuffle=True)\n",
    "\n",
    "accuracies = []\n",
    "\n",
    "vectorizer.fit(df.iloc[:,0])\n",
    "x = vectorizer.transform(df.iloc[:,0])\n",
    "y = labels.values\n",
    "\n",
    "for iteration, datas in enumerate(kf.split(x), start=1):\n",
    "  data_train = x[datas[0]]\n",
    "  target_train = y[datas[0]]\n",
    "\n",
    "  data_test = x[datas[1]]\n",
    "  target_test = y[datas[1]]\n",
    "\n",
    "  clf = MLPClassifier()\n",
    "  clf.fit(data_train,target_train)\n",
    "\n",
    "  preds = clf.predict(data_test)\n",
    "\n",
    "  accuracy = accuracy_score(target_test,preds)\n",
    "\n",
    "  print('Training no: ', iteration)\n",
    "  print(classification_report(target_test,preds))\n",
    "  print('=================================================================')\n",
    "\n",
    "  accuracies.append(accuracy)\n",
    "\n",
    "average_accuracy = np.mean(accuracies)\n",
    "\n",
    "print()\n",
    "print()\n",
    "print()\n",
    "print('Average Accuracy: ', average_accuracy)"
   ]
  }
 ],
 "metadata": {
  "kernelspec": {
   "display_name": "Python 3",
   "language": "python",
   "name": "python3"
  },
  "language_info": {
   "codemirror_mode": {
    "name": "ipython",
    "version": 3
   },
   "file_extension": ".py",
   "mimetype": "text/x-python",
   "name": "python",
   "nbconvert_exporter": "python",
   "pygments_lexer": "ipython3",
   "version": "3.11.2"
  },
  "orig_nbformat": 4
 },
 "nbformat": 4,
 "nbformat_minor": 2
}
